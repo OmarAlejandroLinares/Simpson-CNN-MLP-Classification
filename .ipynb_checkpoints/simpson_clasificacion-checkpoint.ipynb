{
 "cells": [
  {
   "cell_type": "markdown",
   "metadata": {
    "id": "h1o9aMICGeDj"
   },
   "source": [
    "# Clasificación de la base de datos"
   ]
  },
  {
   "cell_type": "markdown",
   "metadata": {
    "id": "sNZNK5PSHAIK"
   },
   "source": [
    "Este trabajo permite cargar los datos procesados e implementarlos en una Red Neuronal Convolucional a través de TF2.\n",
    "\n",
    "Los resultados obtenidos en 10 épocas fueron de:\n",
    "* Exactitud en el entrenamiento: 0.9332000017166138 \n",
    "* Pérdida en el entrenamiento: 0.17810234427452087\n",
    "* Exactitud en la prueba: 0.8931000232696533 \n",
    "* Pérdida en la prueba: 0.33242884278297424"
   ]
  },
  {
   "cell_type": "markdown",
   "metadata": {
    "id": "oYYKoZk0HQzi"
   },
   "source": [
    "## Importar librerías"
   ]
  },
  {
   "cell_type": "code",
   "execution_count": 1,
   "metadata": {
    "id": "FFlFi4_d_OGd"
   },
   "outputs": [],
   "source": [
    "#Cargamos las librerías para manejo de matrices, gráficas y preprocesamiento...\n",
    "import tensorflow as tf\n",
    "import numpy as np\n",
    "import matplotlib.pyplot as plt\n",
    "from sklearn.preprocessing import OneHotEncoder\n",
    "import pickle\n",
    "import random\n",
    "%matplotlib inline"
   ]
  },
  {
   "cell_type": "markdown",
   "metadata": {
    "id": "p1yF1FA_HXoL"
   },
   "source": [
    "## Cargar dataset creado"
   ]
  },
  {
   "cell_type": "code",
   "execution_count": 2,
   "metadata": {
    "colab": {
     "base_uri": "https://localhost:8080/"
    },
    "id": "n14oOHdjDXHg",
    "outputId": "11a70238-9ccf-40af-8230-6f0ce6de9f36"
   },
   "outputs": [
    {
     "name": "stdout",
     "output_type": "stream",
     "text": [
      "Mounted at /content/drive\n"
     ]
    }
   ],
   "source": [
    "# Se monta drive personal\n",
    "from google.colab import drive\n",
    "drive.mount('/content/drive', force_remount=True)"
   ]
  },
  {
   "cell_type": "markdown",
   "metadata": {
    "id": "9bfDYFcrRVmT"
   },
   "source": [
    "## Separando el conjunto de datos en imágenes y etiquetas"
   ]
  },
  {
   "cell_type": "code",
   "execution_count": 3,
   "metadata": {
    "id": "TpA8w7JrGExe"
   },
   "outputs": [],
   "source": [
    "# Se cargan los dos archivos .pickle creados anteriormente\n",
    "path= \"/content/drive/MyDrive/simpsons/\"\n",
    "with open(path+\"simpsons_set0.pickle\",'rb') as f:\n",
    "  datos_x,datos_y = pickle.load(f)"
   ]
  },
  {
   "cell_type": "code",
   "execution_count": 4,
   "metadata": {
    "colab": {
     "base_uri": "https://localhost:8080/"
    },
    "id": "P3T80_rSREu3",
    "outputId": "bd5f670e-511e-448d-adb9-83f1b3a0707e"
   },
   "outputs": [
    {
     "data": {
      "text/plain": [
       "(13679, 80, 80, 3)"
      ]
     },
     "execution_count": 4,
     "metadata": {},
     "output_type": "execute_result"
    }
   ],
   "source": [
    "# Imágenes\n",
    "datos_x.shape"
   ]
  },
  {
   "cell_type": "code",
   "execution_count": 5,
   "metadata": {
    "colab": {
     "base_uri": "https://localhost:8080/"
    },
    "id": "inS3qzxPRvnX",
    "outputId": "50401f98-f5cf-4fcb-d970-413fdadc5dec"
   },
   "outputs": [
    {
     "data": {
      "text/plain": [
       "(13679, 10)"
      ]
     },
     "execution_count": 5,
     "metadata": {},
     "output_type": "execute_result"
    }
   ],
   "source": [
    "# Etiquetas\n",
    "datos_y.shape"
   ]
  },
  {
   "cell_type": "markdown",
   "metadata": {
    "id": "DQ6L23ESHhB8"
   },
   "source": [
    "## Declarar arquitectura de la red con TF2"
   ]
  },
  {
   "cell_type": "markdown",
   "metadata": {
    "id": "teU5zhSySaeQ"
   },
   "source": [
    "El agregar un incializador no random permite que, como comentamos en el análisis de la tarea anterior, mejore en gran medida los resultados obtenidos por la"
   ]
  },
  {
   "cell_type": "code",
   "execution_count": 6,
   "metadata": {
    "id": "7qfHWrWPFdAM"
   },
   "outputs": [],
   "source": [
    "class DNN_model(tf.Module):\n",
    "  # Inicializa el objeto con todo aquello dentro del def __init__\n",
    "  def __init__(self,\n",
    "               n_classes=10):\n",
    "    #Todos los parametros son tf.Variable.\n",
    "\n",
    "    # Declarando inicializador\n",
    "    self.inicial = tf.initializers.glorot_uniform(seed=1)\n",
    "\n",
    "    # Primera capa\n",
    "    self.h1LW = tf.Variable(self.inicial((5,5,3,32)))\n",
    "    self.h1LB = tf.Variable(self.inicial((32,)))\n",
    "\n",
    "    # Segunda capa\n",
    "    self.h2LW = tf.Variable(self.inicial((5,5,32,32)))\n",
    "    self.h2LB = tf.Variable(self.inicial((32,)))\n",
    "\n",
    "    # Tercera capa\n",
    "    self.h3LW = tf.Variable(self.inicial((20*20*32,64)))    \n",
    "    self.h3LB = tf.Variable(self.inicial((64,)))\n",
    "\n",
    "    # Cuarta capa\n",
    "    self.outW = tf.Variable(self.inicial((64, n_classes)))\n",
    "    self.outB = tf.Variable(self.inicial((n_classes,)))    \n",
    "  \n",
    "  def __call__(self,x):\n",
    "      # Formato a la entrada de 80 x 80 x 3\n",
    "      x  = tf.cast(x, tf.float32)      \n",
    "      img = tf.reshape(x, shape=[-1, 80, 80, 3])\n",
    "\n",
    "      # Primera capa convolucional para 40 x 40 x 32\n",
    "      l1= tf.nn.conv2d(img,self.h1LW, strides=[1,1,1,1], padding='SAME')  \n",
    "      l1 = tf.nn.relu(tf.add(l1, self.h1LB))    \n",
    "      l1 = tf.nn.max_pool(l1, ksize=[1,2,2,1], strides=[1,2,2,1], padding='SAME')\n",
    "\n",
    "      # Segunda capa convolucional para 20 x 20 x 32\n",
    "      l2= tf.nn.conv2d(l1,self.h2LW, strides=[1,1,1,1], padding='SAME')  \n",
    "      l2 = tf.add(l2, self.h2LB)\n",
    "      l2 = tf.nn.relu(l2)\n",
    "      l2 = tf.nn.max_pool(l2, ksize=[1,2,2,1], strides=[1,2,2,1], padding='SAME')\n",
    "  \n",
    "      # Tercera capa (dimensión de 64) \n",
    "      l3=  tf.reshape(l2,[-1, 20*20*32])\n",
    "      l3=  tf.matmul(l3,self.h3LW)\n",
    "      l3 = tf.nn.relu(tf.add(l3, self.h3LB))\n",
    "\n",
    "      # Salida de la red (dimensión de 10)\n",
    "      output = tf.matmul(l3,self.outW) + self.outB\n",
    "\n",
    "      return output\n",
    "      #Cada vez que llamemos a la red, se ejecuta la propagación hacia adelante"
   ]
  },
  {
   "cell_type": "code",
   "execution_count": 7,
   "metadata": {
    "colab": {
     "base_uri": "https://localhost:8080/"
    },
    "id": "_P39jBAhaL0C",
    "outputId": "0ebd61e8-6328-43f1-bed6-6ff6cdc2c757"
   },
   "outputs": [
    {
     "data": {
      "text/plain": [
       "<tf.Tensor: shape=(1, 10), dtype=float32, numpy=\n",
       "array([[ -25.130285 ,   33.44004  ,   10.628458 ,  -55.172993 ,\n",
       "         -65.7736   ,  -32.88443  , -187.12755  ,   -2.3098874,\n",
       "          82.736565 ,   -6.317874 ]], dtype=float32)>"
      ]
     },
     "execution_count": 7,
     "metadata": {},
     "output_type": "execute_result"
    }
   ],
   "source": [
    "# Creando un objeto DNN_model()\n",
    "DNN = DNN_model()\n",
    "#Mandamos a llamar la propagación hacia adelante del objeto DNN\n",
    "DNN(datos_x[0])"
   ]
  },
  {
   "cell_type": "markdown",
   "metadata": {
    "id": "RkdOJ3hBVZ_f"
   },
   "source": [
    "Seleccionando un optimizador"
   ]
  },
  {
   "cell_type": "markdown",
   "metadata": {
    "id": "Mt9-NJf4WkMt"
   },
   "source": [
    "Antes de que el modelo este listo para entrenar , se necesitan algunas configuraciones más. Éstas son agregadas durante el paso de compilacion del modelo:\n",
    "\n",
    "+ Loss function: Mide qué tan exacto es el modelo. Se busca minimizar su valor para dirigir el modelo en la dirección adecuada.\n",
    "+ Optimizer: Cómo el modelo se actualiza basado en el set de datos que ve y la función de pérdida. Por default el factor de aprendizaje es de 0.001\n",
    "+ Metrics: Métricas de validación, monitorean los pasos de entrenamiento y pruebas. El accuracy (exactitud), arroja la fración de entradas correctamente clasificadas."
   ]
  },
  {
   "cell_type": "code",
   "execution_count": 8,
   "metadata": {
    "id": "w50XaMuhGZoT"
   },
   "outputs": [],
   "source": [
    "# Declarando el optimizador\n",
    "optimizador = tf.compat.v1.train.AdamOptimizer(learning_rate=0.001)\n",
    "\n",
    "# Se eligió el que mejores resultados de exactitud otorgó.\n",
    "# Aunque se especifica el larning_rate, el valor que tiene es el de default"
   ]
  },
  {
   "cell_type": "markdown",
   "metadata": {
    "id": "eNT0Ddi_Wzkw"
   },
   "source": [
    "Definiendo las métricas"
   ]
  },
  {
   "cell_type": "code",
   "execution_count": 9,
   "metadata": {
    "id": "H8nyIDs4GhLq"
   },
   "outputs": [],
   "source": [
    "# Funciones de costo\n",
    "train_loss = tf.keras.metrics.Mean(name='train_loss')\n",
    "test_loss = tf.keras.metrics.Mean(name='test_loss')\n",
    "\n",
    "# Funciones de exactitud\n",
    "train_accuracy = tf.keras.metrics.CategoricalAccuracy(name='train_accuracy')\n",
    "test_accuracy = tf.keras.metrics.CategoricalAccuracy(name='test_accuracy')"
   ]
  },
  {
   "cell_type": "markdown",
   "metadata": {
    "id": "Q0VE-SsIXFRS"
   },
   "source": [
    "Cálculo de gradientes y ajuste"
   ]
  },
  {
   "cell_type": "code",
   "execution_count": 10,
   "metadata": {
    "id": "o41tSEL5fiOe"
   },
   "outputs": [],
   "source": [
    "#Declaramos el paso de entrenamiento\n",
    "def train_step(model,tdata, labels):\n",
    "  # Esta funcion recibe el modelo, los datos de entrenamiento y sus etiquetas\n",
    "  with tf.GradientTape() as tape:\n",
    "    # Cargamos el calculo de gradiente de tensorflow y lo renombramos como tape (la cinta del gradiente)\n",
    "    # Hacemos la propagacion hacia delante de los datos de entrenamiento\n",
    "    predictions = model(tdata)\n",
    "\n",
    "    # Cálculo de una funcion de error \n",
    "    loss = tf.reduce_mean(tf.nn.softmax_cross_entropy_with_logits(labels, predictions))\n",
    "    # Aqui estamos usando la funcion de error y le indicamos\n",
    "      # que se calcula con la diferencia entre la prediccion y la etiqueta\n",
    "\n",
    "  # Se calcula el gradiente de pérdida con respecto a los pesos y bias\n",
    "  gradients = tape.gradient(loss, model.trainable_variables)\n",
    "  # Ordenando en tuplas: (gradiente, variable)\n",
    "  capped_grads_and_vars = [(grad,model.trainable_variables[index]) for index, grad in enumerate(gradients)]\n",
    "  # Ya con los gradientes y variables ordenados, ejecutamos el optimizador que elegimos\n",
    "  optimizador.apply_gradients(capped_grads_and_vars)\n",
    "\n",
    "  # Desplegamos el error y exactitud\n",
    "  train_loss(loss)\n",
    "  train_accuracy(labels, predictions)"
   ]
  },
  {
   "cell_type": "code",
   "execution_count": 11,
   "metadata": {
    "id": "DUlIQuOhfkPF"
   },
   "outputs": [],
   "source": [
    "# Esta es la funcion de prueba, para propagar sin modificar los datos\n",
    "def test_step(model,tdata, labels):\n",
    "  predictions = model(tdata)\n",
    "  t_loss =  tf.reduce_mean(tf.nn.softmax_cross_entropy_with_logits(labels, predictions))\n",
    "\n",
    "  test_loss(t_loss)\n",
    "  test_accuracy(labels, predictions)"
   ]
  },
  {
   "cell_type": "code",
   "execution_count": 12,
   "metadata": {
    "id": "TCSJ2uW7fl9h"
   },
   "outputs": [],
   "source": [
    "#Declaramos la funcion de entrenamiento\n",
    "def fitting(model,dataName,EPOCHS,N_batch,batch_size, load=False):\n",
    "  rtrain_loss = []\n",
    "  rtrain_accuracy = []\n",
    "  rtest_loss = []\n",
    "  rtest_accuracy = []\n",
    "  \"\"\"\n",
    "  Parámetros:\n",
    "  * model.- La red neuronal a entrenar. Debe ser un objeto de la clase \"DNN_model\"\n",
    "  * dataName.- Para la lectura de una ruta\n",
    "  * EPOCHS.- El número de épocas de entrenamiento.\n",
    "  * N_batch.- El número de lotes (batches) a procesar\n",
    "  * bacth_size.- El tamaño de cada minilote (mini-batch)\n",
    "  * load.- Una bandera que indica si hay que cargar un archivo ckpt de la red pre-entrenada\n",
    "\n",
    "  No entrega nada como salida pero muestra en pantalla el proceso del entrenamiento \n",
    "  \"\"\"\n",
    "  if load:\n",
    "        print(\"Cargando modelo\")\n",
    "        checkpoint= tf.train.Checkpoint(model)\n",
    "        checkpoint.read(path+\"simpsons_CNN_pickle_ckpt\")\n",
    "\n",
    "        optimizador = tf.compat.v1.train.AdamOptimizer(learning_rate=0.7)\n",
    "        print(\"Modelo cargado\")\n",
    "\n",
    "\n",
    "  # Hacemos el ciclo de épocas\n",
    "  for epoch in range(EPOCHS):\n",
    "    #El ciclo de los lotes de archivos\n",
    "    for n in range(N_batch):\n",
    "      i = 0\n",
    "      with open(path+dataName+str(n)+\".pickle\",'rb') as f:\n",
    "        train_x,train_y=pickle.load(f)\n",
    "\n",
    "      # Hacemos el ciclo por lote\n",
    "      while i+batch_size <len(train_x):\n",
    "        # Aqui ya no tenemos las funciones para separar los dataset por lotes\n",
    "        # Necesitamos separar los lotes a mano.\n",
    "        start = i\n",
    "        end = i+batch_size\n",
    "        # Hacemos las rebanadas del tamaño del lote a usar\n",
    "        batch_x = train_x[start:end]\n",
    "        batch_y = train_y[start:end]\n",
    "        # Ejecutamos el paso de entrenamiento\n",
    "        train_step(model,batch_x,batch_y)\n",
    "        # Hacemos el incremento en el contador del lote\n",
    "        i+=batch_size\n",
    "    \n",
    "    # Ejecutamos el paso de prueba\n",
    "    with open(path+dataName+'Test.pickle','rb') as f:\n",
    "      test_x,test_y=pickle.load(f)\n",
    "    test_step(model,test_x,test_y)\n",
    "\n",
    "    # Con cada época imprimimos en pantalla el resultado      \n",
    "    template = 'Epoch {}, Perdida: {}, Exactitud: {}, Perdida de prueba: {}, Exactitud de prueba: {}'\n",
    "    print(template.format(epoch+1,\n",
    "                         train_loss.result(),\n",
    "                        train_accuracy.result()*100,\n",
    "                        test_loss.result(),\n",
    "                        test_accuracy.result()*100))\n",
    "    \n",
    "    rtrain_loss.append(train_loss.result())\n",
    "    rtrain_accuracy.append(train_accuracy.result()*100)\n",
    "    rtest_loss.append(test_loss.result())\n",
    "    rtest_accuracy.append(test_accuracy.result()*100)\n",
    "\n",
    "    if epoch % int(EPOCHS/4.)==0:  \n",
    "            checkpoint= tf.train.Checkpoint(model)\n",
    "            checkpoint.write(path+\"simpsons_CNN_pickle_ckpt\")\n",
    "            \n",
    "    # Al finalizar la época, reiniciamos métricas para que no se acumulen.\n",
    "    train_loss.reset_states()\n",
    "    train_accuracy.reset_states()\n",
    "    test_loss.reset_states()\n",
    "    test_accuracy.reset_states()\n",
    "  \n",
    "  checkpoint= tf.train.Checkpoint(model)\n",
    "  checkpoint.write(path+\"simpsons_CNN_pickle_ckpt\")\n",
    "\n",
    "  return rtrain_loss, rtrain_accuracy, rtest_loss, rtest_accuracy"
   ]
  },
  {
   "cell_type": "code",
   "execution_count": 13,
   "metadata": {
    "colab": {
     "base_uri": "https://localhost:8080/"
    },
    "id": "RrhUtL7gK1gV",
    "outputId": "717a826d-b3d1-4987-a0c0-4145c7ea2e5c"
   },
   "outputs": [
    {
     "name": "stdout",
     "output_type": "stream",
     "text": [
      "Epoch 1, Perdida: 11.774507522583008, Exactitud: 33.082706451416016, Perdida de prueba: 1.6353347301483154, Exactitud de prueba: 43.84322738647461\n",
      "Epoch 2, Perdida: 1.4616916179656982, Exactitud: 48.009727478027344, Perdida de prueba: 1.4349920749664307, Exactitud de prueba: 50.74583435058594\n",
      "Epoch 3, Perdida: 1.1742956638336182, Exactitud: 59.427982330322266, Perdida de prueba: 1.3189268112182617, Exactitud de prueba: 58.028663635253906\n",
      "Epoch 4, Perdida: 0.9475575089454651, Exactitud: 67.50700378417969, Perdida de prueba: 1.2742935419082642, Exactitud de prueba: 60.16379165649414\n",
      "Epoch 5, Perdida: 0.8281086087226868, Exactitud: 72.12885284423828, Perdida de prueba: 1.2382864952087402, Exactitud de prueba: 61.50921630859375\n",
      "Epoch 6, Perdida: 0.7167980670928955, Exactitud: 75.63761901855469, Perdida de prueba: 1.190691590309143, Exactitud de prueba: 64.02456665039062\n",
      "Epoch 7, Perdida: 0.618194580078125, Exactitud: 78.8957748413086, Perdida de prueba: 1.2114280462265015, Exactitud de prueba: 67.53437042236328\n",
      "Epoch 8, Perdida: 0.5096368193626404, Exactitud: 83.06796264648438, Perdida de prueba: 1.2843619585037231, Exactitud de prueba: 67.47586822509766\n",
      "Epoch 9, Perdida: 0.43347233533859253, Exactitud: 85.59634399414062, Perdida de prueba: 1.3484359979629517, Exactitud de prueba: 68.090087890625\n",
      "Epoch 10, Perdida: 0.33962786197662354, Exactitud: 89.11985778808594, Perdida de prueba: 1.5290038585662842, Exactitud de prueba: 68.2948226928711\n",
      "Epoch 11, Perdida: 0.2984183430671692, Exactitud: 90.15921783447266, Perdida de prueba: 1.8089447021484375, Exactitud de prueba: 68.99678039550781\n",
      "Epoch 12, Perdida: 0.2894698679447174, Exactitud: 90.31401824951172, Perdida de prueba: 2.034902334213257, Exactitud de prueba: 64.96051788330078\n",
      "Epoch 13, Perdida: 0.27078157663345337, Exactitud: 90.73419189453125, Perdida de prueba: 1.9266974925994873, Exactitud de prueba: 67.62211608886719\n",
      "Epoch 14, Perdida: 0.2262217253446579, Exactitud: 92.30429077148438, Perdida de prueba: 1.9728728532791138, Exactitud de prueba: 69.14302825927734\n",
      "Epoch 15, Perdida: 0.1894703060388565, Exactitud: 93.69010925292969, Perdida de prueba: 2.2461249828338623, Exactitud de prueba: 66.51068115234375\n"
     ]
    }
   ],
   "source": [
    "# Para definir el batch_size, número de ejemplos por achivo entre 125: 13679/125 = 119\n",
    "rtrain_loss, rtrain_accuracy, rtest_loss, rtest_accuracy = fitting(DNN,'simpsons_set',EPOCHS=15,N_batch=1,batch_size=119, load=False)"
   ]
  },
  {
   "cell_type": "code",
   "execution_count": 31,
   "metadata": {
    "colab": {
     "base_uri": "https://localhost:8080/",
     "height": 297
    },
    "id": "AAjBIwcemsrA",
    "outputId": "fefc15c0-8759-4ee2-f842-3b795b96d952"
   },
   "outputs": [
    {
     "data": {
      "image/png": "[encoded data removed]",
      "text/plain": [
       "<Figure size 432x288 with 1 Axes>"
      ]
     },
     "metadata": {
      "needs_background": "light"
     },
     "output_type": "display_data"
    }
   ],
   "source": [
    "plt.plot(rtrain_accuracy, label=\"Train Accuracy\", marker = '*')\n",
    "plt.plot(rtest_accuracy, label=\"Test Accuracy\", marker = '*')\n",
    "plt.plot(rtrain_loss, label=\"Train Loss\", marker = 'o')\n",
    "plt.plot(rtest_loss, label=\"Test Loss\", marker = 'o')\n",
    "\n",
    "plt.title(\"Métricas de validación\")\n",
    "plt.xlabel(\"Épocas\")\n",
    "plt.ylabel(\"Percentage (%)\")\n",
    "plt.legend()\n",
    "plt.grid()\n",
    "plt.show()"
   ]
  }
 ],
 "metadata": {
  "accelerator": "GPU",
  "colab": {
   "collapsed_sections": [],
   "provenance": []
  },
  "kernelspec": {
   "display_name": "Python 3 (ipykernel)",
   "language": "python",
   "name": "python3"
  },
  "language_info": {
   "codemirror_mode": {
    "name": "ipython",
    "version": 3
   },
   "file_extension": ".py",
   "mimetype": "text/x-python",
   "name": "python",
   "nbconvert_exporter": "python",
   "pygments_lexer": "ipython3",
   "version": "3.9.12"
  }
 },
 "nbformat": 4,
 "nbformat_minor": 1
}
