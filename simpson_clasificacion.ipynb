{
  "cells": [
    {
      "cell_type": "markdown",
      "metadata": {
        "id": "view-in-github",
        "colab_type": "text"
      },
      "source": [
        "<a href=\"https://colab.research.google.com/github/OmarAlejandroLinares/Simpson-CNN-MLP-Classification/blob/master/simpson_clasificacion.ipynb\" target=\"_parent\"><img src=\"https://colab.research.google.com/assets/colab-badge.svg\" alt=\"Open In Colab\"/></a>"
      ]
    },
    {
      "cell_type": "markdown",
      "source": [
        "# Clasificación de la base de datos"
      ],
      "metadata": {
        "id": "h1o9aMICGeDj"
      }
    },
    {
      "cell_type": "markdown",
      "source": [
        "Este trabajo permite cargar los datos procesados e implementarlos en una Red Neuronal Convolucional a través de TF2.\n",
        "\n",
        "Los resultados obtenidos en 25 épocas fueron de:\n",
        "* Exactitud en el entrenamiento: 0.980687026977539\n",
        "* Pérdida en el entrenamiento: 0.06393703073263168\n",
        "* Exactitud en la prueba: 0.702837142944336 \n",
        "* Pérdida en la prueba: 2.7027971744537354"
      ],
      "metadata": {
        "id": "sNZNK5PSHAIK"
      }
    },
    {
      "cell_type": "markdown",
      "source": [
        "## Importar librerías"
      ],
      "metadata": {
        "id": "oYYKoZk0HQzi"
      }
    },
    {
      "cell_type": "code",
      "execution_count": 1,
      "metadata": {
        "id": "FFlFi4_d_OGd"
      },
      "outputs": [],
      "source": [
        "#Cargamos las librerías para manejo de matrices, gráficas y preprocesamiento...\n",
        "import tensorflow as tf\n",
        "import numpy as np\n",
        "import matplotlib.pyplot as plt\n",
        "from sklearn.preprocessing import OneHotEncoder\n",
        "import pickle\n",
        "import random\n",
        "%matplotlib inline"
      ]
    },
    {
      "cell_type": "markdown",
      "source": [
        "## Cargar dataset creado"
      ],
      "metadata": {
        "id": "p1yF1FA_HXoL"
      }
    },
    {
      "cell_type": "code",
      "execution_count": 2,
      "metadata": {
        "colab": {
          "base_uri": "https://localhost:8080/"
        },
        "id": "n14oOHdjDXHg",
        "outputId": "33f54cb7-e990-46ea-a084-8a2f66382a52"
      },
      "outputs": [
        {
          "output_type": "stream",
          "name": "stdout",
          "text": [
            "Mounted at /content/drive\n"
          ]
        }
      ],
      "source": [
        "# Se monta drive personal\n",
        "from google.colab import drive\n",
        "drive.mount('/content/drive', force_remount=True)"
      ]
    },
    {
      "cell_type": "markdown",
      "source": [
        "## Separando el conjunto de datos en imágenes y etiquetas"
      ],
      "metadata": {
        "id": "9bfDYFcrRVmT"
      }
    },
    {
      "cell_type": "code",
      "execution_count": 3,
      "metadata": {
        "id": "TpA8w7JrGExe"
      },
      "outputs": [],
      "source": [
        "# Se cargan los dos archivos .pickle creados anteriormente\n",
        "path= \"/content/drive/MyDrive/simpsons/\"\n",
        "with open(path+\"simpsons_set0.pickle\",'rb') as f:\n",
        "  datos_x,datos_y = pickle.load(f)"
      ]
    },
    {
      "cell_type": "code",
      "source": [
        "# Imágenes\n",
        "datos_x.shape"
      ],
      "metadata": {
        "colab": {
          "base_uri": "https://localhost:8080/"
        },
        "id": "P3T80_rSREu3",
        "outputId": "f0023cd1-f716-4679-c8f2-5b67ca701f70"
      },
      "execution_count": 4,
      "outputs": [
        {
          "output_type": "execute_result",
          "data": {
            "text/plain": [
              "(13679, 80, 80, 3)"
            ]
          },
          "metadata": {},
          "execution_count": 4
        }
      ]
    },
    {
      "cell_type": "code",
      "source": [
        "# Etiquetas\n",
        "datos_y.shape"
      ],
      "metadata": {
        "colab": {
          "base_uri": "https://localhost:8080/"
        },
        "id": "inS3qzxPRvnX",
        "outputId": "abcda52c-b745-4b41-eb58-e860de0f75f7"
      },
      "execution_count": 5,
      "outputs": [
        {
          "output_type": "execute_result",
          "data": {
            "text/plain": [
              "(13679, 10)"
            ]
          },
          "metadata": {},
          "execution_count": 5
        }
      ]
    },
    {
      "cell_type": "markdown",
      "source": [
        "## Declarar arquitectura de la red con TF2"
      ],
      "metadata": {
        "id": "DQ6L23ESHhB8"
      }
    },
    {
      "cell_type": "markdown",
      "source": [
        "El agregar un incializador no random permite que, como comentamos en el análisis de la tarea anterior, mejore en gran medida los resultados obtenidos por la"
      ],
      "metadata": {
        "id": "teU5zhSySaeQ"
      }
    },
    {
      "cell_type": "code",
      "execution_count": 6,
      "metadata": {
        "id": "7qfHWrWPFdAM"
      },
      "outputs": [],
      "source": [
        "class DNN_model(tf.Module):\n",
        "  # Inicializa el objeto con todo aquello dentro del def __init__\n",
        "  def __init__(self,\n",
        "               n_classes=10):\n",
        "    #Todos los parametros son tf.Variable.\n",
        "\n",
        "    # Declarando inicializador\n",
        "    self.inicial = tf.initializers.glorot_uniform(seed=1)\n",
        "\n",
        "    # Primera capa\n",
        "    self.h1LW = tf.Variable(self.inicial((5,5,3,32)))\n",
        "    self.h1LB = tf.Variable(self.inicial((32,)))\n",
        "\n",
        "    # Segunda capa\n",
        "    self.h2LW = tf.Variable(self.inicial((5,5,32,32)))\n",
        "    self.h2LB = tf.Variable(self.inicial((32,)))\n",
        "\n",
        "    # Tercera capa\n",
        "    self.h3LW = tf.Variable(self.inicial((20*20*32,64)))    \n",
        "    self.h3LB = tf.Variable(self.inicial((64,)))\n",
        "\n",
        "    # Cuarta capa\n",
        "    self.outW = tf.Variable(self.inicial((64, n_classes)))\n",
        "    self.outB = tf.Variable(self.inicial((n_classes,)))    \n",
        "  \n",
        "  def __call__(self,x):\n",
        "      # Formato a la entrada de 80 x 80 x 3\n",
        "      x  = tf.cast(x, tf.float32)      \n",
        "      img = tf.reshape(x, shape=[-1, 80, 80, 3])\n",
        "\n",
        "      # Primera capa convolucional para 40 x 40 x 32\n",
        "      l1= tf.nn.conv2d(img,self.h1LW, strides=[1,1,1,1], padding='SAME')  \n",
        "      l1 = tf.nn.relu(tf.add(l1, self.h1LB))    \n",
        "      l1 = tf.nn.max_pool(l1, ksize=[1,2,2,1], strides=[1,2,2,1], padding='SAME')\n",
        "\n",
        "      # Segunda capa convolucional para 20 x 20 x 32\n",
        "      l2= tf.nn.conv2d(l1,self.h2LW, strides=[1,1,1,1], padding='SAME')  \n",
        "      l2 = tf.add(l2, self.h2LB)\n",
        "      l2 = tf.nn.relu(l2)\n",
        "      l2 = tf.nn.max_pool(l2, ksize=[1,2,2,1], strides=[1,2,2,1], padding='SAME')\n",
        "  \n",
        "      # Tercera capa (dimensión de 64) \n",
        "      l3=  tf.reshape(l2,[-1, 20*20*32])\n",
        "      l3=  tf.matmul(l3,self.h3LW)\n",
        "      l3 = tf.nn.relu(tf.add(l3, self.h3LB))\n",
        "\n",
        "      # Salida de la red (dimensión de 10)\n",
        "      output = tf.matmul(l3,self.outW) + self.outB\n",
        "\n",
        "      return output\n",
        "      #Cada vez que llamemos a la red, se ejecuta la propagación hacia adelante"
      ]
    },
    {
      "cell_type": "code",
      "execution_count": 7,
      "metadata": {
        "colab": {
          "base_uri": "https://localhost:8080/"
        },
        "id": "_P39jBAhaL0C",
        "outputId": "aac92cb8-cb91-4410-8787-da48fc5049b9"
      },
      "outputs": [
        {
          "output_type": "execute_result",
          "data": {
            "text/plain": [
              "<tf.Tensor: shape=(1, 10), dtype=float32, numpy=\n",
              "array([[ -25.130285 ,   33.44004  ,   10.628458 ,  -55.172993 ,\n",
              "         -65.7736   ,  -32.88443  , -187.12755  ,   -2.3098874,\n",
              "          82.736565 ,   -6.317874 ]], dtype=float32)>"
            ]
          },
          "metadata": {},
          "execution_count": 7
        }
      ],
      "source": [
        "# Creando un objeto DNN_model()\n",
        "DNN = DNN_model()\n",
        "#Mandamos a llamar la propagación hacia adelante del objeto DNN\n",
        "DNN(datos_x[0])"
      ]
    },
    {
      "cell_type": "markdown",
      "source": [
        "Seleccionando un optimizador"
      ],
      "metadata": {
        "id": "RkdOJ3hBVZ_f"
      }
    },
    {
      "cell_type": "markdown",
      "source": [
        "Antes de que el modelo este listo para entrenar , se necesitan algunas configuraciones más. Éstas son agregadas durante el paso de compilacion del modelo:\n",
        "\n",
        "+ Loss function: Mide qué tan exacto es el modelo. Se busca minimizar su valor para dirigir el modelo en la dirección adecuada.\n",
        "+ Optimizer: Cómo el modelo se actualiza basado en el set de datos que ve y la función de pérdida. Por default el factor de aprendizaje es de 0.001\n",
        "+ Metrics: Métricas de validación, monitorean los pasos de entrenamiento y pruebas. El accuracy (exactitud), arroja la fración de entradas correctamente clasificadas."
      ],
      "metadata": {
        "id": "Mt9-NJf4WkMt"
      }
    },
    {
      "cell_type": "code",
      "execution_count": 8,
      "metadata": {
        "id": "w50XaMuhGZoT"
      },
      "outputs": [],
      "source": [
        "# Declarando el optimizador\n",
        "optimizador = tf.compat.v1.train.AdamOptimizer(learning_rate=0.001)\n",
        "\n",
        "# Se eligió el que mejores resultados de exactitud otorgó.\n",
        "# Aunque se especifica el larning_rate, el valor que tiene es el de default"
      ]
    },
    {
      "cell_type": "markdown",
      "source": [
        "Definiendo las métricas"
      ],
      "metadata": {
        "id": "eNT0Ddi_Wzkw"
      }
    },
    {
      "cell_type": "code",
      "execution_count": 9,
      "metadata": {
        "id": "H8nyIDs4GhLq"
      },
      "outputs": [],
      "source": [
        "# Funciones de costo\n",
        "train_loss = tf.keras.metrics.Mean(name='train_loss')\n",
        "test_loss = tf.keras.metrics.Mean(name='test_loss')\n",
        "\n",
        "# Funciones de exactitud\n",
        "train_accuracy = tf.keras.metrics.CategoricalAccuracy(name='train_accuracy')\n",
        "test_accuracy = tf.keras.metrics.CategoricalAccuracy(name='test_accuracy')"
      ]
    },
    {
      "cell_type": "markdown",
      "source": [
        "Cálculo de gradientes y ajuste"
      ],
      "metadata": {
        "id": "Q0VE-SsIXFRS"
      }
    },
    {
      "cell_type": "code",
      "execution_count": 10,
      "metadata": {
        "id": "o41tSEL5fiOe"
      },
      "outputs": [],
      "source": [
        "#Declaramos el paso de entrenamiento\n",
        "def train_step(model,tdata, labels):\n",
        "  # Esta funcion recibe el modelo, los datos de entrenamiento y sus etiquetas\n",
        "  with tf.GradientTape() as tape:\n",
        "    # Cargamos el calculo de gradiente de tensorflow y lo renombramos como tape (la cinta del gradiente)\n",
        "    # Hacemos la propagacion hacia delante de los datos de entrenamiento\n",
        "    predictions = model(tdata)\n",
        "\n",
        "    # Cálculo de una funcion de error \n",
        "    loss = tf.reduce_mean(tf.nn.softmax_cross_entropy_with_logits(labels, predictions))\n",
        "    # Aqui estamos usando la funcion de error y le indicamos\n",
        "      # que se calcula con la diferencia entre la prediccion y la etiqueta\n",
        "\n",
        "  # Se calcula el gradiente de pérdida con respecto a los pesos y bias\n",
        "  gradients = tape.gradient(loss, model.trainable_variables)\n",
        "  # Ordenando en tuplas: (gradiente, variable)\n",
        "  capped_grads_and_vars = [(grad,model.trainable_variables[index]) for index, grad in enumerate(gradients)]\n",
        "  # Ya con los gradientes y variables ordenados, ejecutamos el optimizador que elegimos\n",
        "  optimizador.apply_gradients(capped_grads_and_vars)\n",
        "\n",
        "  # Desplegamos el error y exactitud\n",
        "  train_loss(loss)\n",
        "  train_accuracy(labels, predictions)"
      ]
    },
    {
      "cell_type": "code",
      "execution_count": 11,
      "metadata": {
        "id": "DUlIQuOhfkPF"
      },
      "outputs": [],
      "source": [
        "# Esta es la funcion de prueba, para propagar sin modificar los datos\n",
        "def test_step(model,tdata, labels):\n",
        "  predictions = model(tdata)\n",
        "  t_loss =  tf.reduce_mean(tf.nn.softmax_cross_entropy_with_logits(labels, predictions))\n",
        "\n",
        "  test_loss(t_loss)\n",
        "  test_accuracy(labels, predictions)"
      ]
    },
    {
      "cell_type": "code",
      "execution_count": 12,
      "metadata": {
        "id": "TCSJ2uW7fl9h"
      },
      "outputs": [],
      "source": [
        "#Declaramos la funcion de entrenamiento\n",
        "def fitting(model,dataName,EPOCHS,N_batch,batch_size, load=False):\n",
        "  rtrain_loss = []\n",
        "  rtrain_accuracy = []\n",
        "  rtest_loss = []\n",
        "  rtest_accuracy = []\n",
        "  \"\"\"\n",
        "  Parámetros:\n",
        "  * model.- La red neuronal a entrenar. Debe ser un objeto de la clase \"DNN_model\"\n",
        "  * dataName.- Para la lectura de una ruta\n",
        "  * EPOCHS.- El número de épocas de entrenamiento.\n",
        "  * N_batch.- El número de lotes (batches) a procesar\n",
        "  * bacth_size.- El tamaño de cada minilote (mini-batch)\n",
        "  * load.- Una bandera que indica si hay que cargar un archivo ckpt de la red pre-entrenada\n",
        "\n",
        "  No entrega nada como salida pero muestra en pantalla el proceso del entrenamiento \n",
        "  \"\"\"\n",
        "  if load:\n",
        "        print(\"Cargando modelo\")\n",
        "        checkpoint= tf.train.Checkpoint(model)\n",
        "        checkpoint.read(path+\"simpsons_CNN_pickle_ckpt\")\n",
        "\n",
        "        optimizador = tf.compat.v1.train.AdamOptimizer(learning_rate=0.7)\n",
        "        print(\"Modelo cargado\")\n",
        "\n",
        "\n",
        "  # Hacemos el ciclo de épocas\n",
        "  for epoch in range(EPOCHS):\n",
        "    #El ciclo de los lotes de archivos\n",
        "    for n in range(N_batch):\n",
        "      i = 0\n",
        "      with open(path+dataName+str(n)+\".pickle\",'rb') as f:\n",
        "        train_x,train_y=pickle.load(f)\n",
        "\n",
        "      # Hacemos el ciclo por lote\n",
        "      while i+batch_size <len(train_x):\n",
        "        # Aqui ya no tenemos las funciones para separar los dataset por lotes\n",
        "        # Necesitamos separar los lotes a mano.\n",
        "        start = i\n",
        "        end = i+batch_size\n",
        "        # Hacemos las rebanadas del tamaño del lote a usar\n",
        "        batch_x = train_x[start:end]\n",
        "        batch_y = train_y[start:end]\n",
        "        # Ejecutamos el paso de entrenamiento\n",
        "        train_step(model,batch_x,batch_y)\n",
        "        # Hacemos el incremento en el contador del lote\n",
        "        i+=batch_size\n",
        "    \n",
        "    # Ejecutamos el paso de prueba\n",
        "    with open(path+dataName+'Test.pickle','rb') as f:\n",
        "      test_x,test_y=pickle.load(f)\n",
        "    test_step(model,test_x,test_y)\n",
        "\n",
        "    # Con cada época imprimimos en pantalla el resultado      \n",
        "    template = 'Epoch {}, Perdida: {}, Exactitud: {}, Perdida de prueba: {}, Exactitud de prueba: {}'\n",
        "    print(template.format(epoch+1,\n",
        "                         train_loss.result(),\n",
        "                        train_accuracy.result()*100,\n",
        "                        test_loss.result(),\n",
        "                        test_accuracy.result()*100))\n",
        "    \n",
        "    rtrain_loss.append(train_loss.result())\n",
        "    rtrain_accuracy.append(train_accuracy.result()*100)\n",
        "    rtest_loss.append(test_loss.result())\n",
        "    rtest_accuracy.append(test_accuracy.result()*100)\n",
        "\n",
        "    if epoch % int(EPOCHS/4.)==0:  \n",
        "            checkpoint= tf.train.Checkpoint(model)\n",
        "            checkpoint.write(path+\"simpsons_CNN_pickle_ckpt\")\n",
        "            \n",
        "    # Al finalizar la época, reiniciamos métricas para que no se acumulen.\n",
        "    train_loss.reset_states()\n",
        "    train_accuracy.reset_states()\n",
        "    test_loss.reset_states()\n",
        "    test_accuracy.reset_states()\n",
        "  \n",
        "  checkpoint= tf.train.Checkpoint(model)\n",
        "  checkpoint.write(path+\"simpsons_CNN_pickle_ckpt\")\n",
        "\n",
        "  return rtrain_loss, rtrain_accuracy, rtest_loss, rtest_accuracy"
      ]
    },
    {
      "cell_type": "code",
      "source": [
        "# Para definir el batch_size, número de ejemplos por achivo entre 125: 13679/125 = 119\n",
        "rtrain_loss, rtrain_accuracy, rtest_loss, rtest_accuracy = fitting(DNN,'simpsons_set',EPOCHS=25,N_batch=1,batch_size=119, load=False)"
      ],
      "metadata": {
        "id": "RrhUtL7gK1gV",
        "colab": {
          "base_uri": "https://localhost:8080/"
        },
        "outputId": "bb543a8d-f084-4478-d3a3-60ba13ba0e28"
      },
      "execution_count": 13,
      "outputs": [
        {
          "output_type": "stream",
          "name": "stdout",
          "text": [
            "Epoch 1, Perdida: 11.779520988464355, Exactitud: 32.97950744628906, Perdida de prueba: 1.6895639896392822, Exactitud de prueba: 38.92951202392578\n",
            "Epoch 2, Perdida: 1.4310681819915771, Exactitud: 48.982749938964844, Perdida de prueba: 1.4098126888275146, Exactitud de prueba: 51.3892936706543\n",
            "Epoch 3, Perdida: 1.1422923803329468, Exactitud: 60.305171966552734, Perdida de prueba: 1.324164867401123, Exactitud de prueba: 56.595497131347656\n",
            "Epoch 4, Perdida: 0.9363821148872375, Exactitud: 67.84608459472656, Perdida de prueba: 1.2036248445510864, Exactitud de prueba: 62.796138763427734\n",
            "Epoch 5, Perdida: 0.8370241522789001, Exactitud: 70.98628997802734, Perdida de prueba: 1.2933931350708008, Exactitud de prueba: 63.49809646606445\n",
            "Epoch 6, Perdida: 0.677497386932373, Exactitud: 76.84652709960938, Perdida de prueba: 1.2647650241851807, Exactitud de prueba: 64.05381774902344\n",
            "Epoch 7, Perdida: 0.5714678168296814, Exactitud: 80.75335693359375, Perdida de prueba: 1.4462597370147705, Exactitud de prueba: 59.16934585571289\n",
            "Epoch 8, Perdida: 0.532675564289093, Exactitud: 82.0580825805664, Perdida de prueba: 1.4007807970046997, Exactitud de prueba: 68.1485824584961\n",
            "Epoch 9, Perdida: 0.45151448249816895, Exactitud: 84.6380615234375, Perdida de prueba: 1.4805833101272583, Exactitud de prueba: 68.52880859375\n",
            "Epoch 10, Perdida: 0.3634348213672638, Exactitud: 87.94043731689453, Perdida de prueba: 1.6179635524749756, Exactitud de prueba: 68.41181182861328\n",
            "Epoch 11, Perdida: 0.317465603351593, Exactitud: 89.63585662841797, Perdida de prueba: 1.5870712995529175, Exactitud de prueba: 68.382568359375\n",
            "Epoch 12, Perdida: 0.26659029722213745, Exactitud: 91.05115509033203, Perdida de prueba: 1.8633953332901, Exactitud de prueba: 68.11933898925781\n",
            "Epoch 13, Perdida: 0.24394428730010986, Exactitud: 92.03154754638672, Perdida de prueba: 1.984825849533081, Exactitud de prueba: 66.97865295410156\n",
            "Epoch 14, Perdida: 0.19777314364910126, Exactitud: 93.49108123779297, Perdida de prueba: 1.9819753170013428, Exactitud de prueba: 68.967529296875\n",
            "Epoch 15, Perdida: 0.16623201966285706, Exactitud: 94.43461608886719, Perdida de prueba: 2.006974220275879, Exactitud de prueba: 70.66393280029297\n",
            "Epoch 16, Perdida: 0.13229134678840637, Exactitud: 95.79094696044922, Perdida de prueba: 2.0587337017059326, Exactitud de prueba: 70.8979263305664\n",
            "Epoch 17, Perdida: 0.12006401270627975, Exactitud: 96.00471496582031, Perdida de prueba: 2.2483131885528564, Exactitud de prueba: 70.31295776367188\n",
            "Epoch 18, Perdida: 0.10127220302820206, Exactitud: 96.80819702148438, Perdida de prueba: 2.3890316486358643, Exactitud de prueba: 69.81573486328125\n",
            "Epoch 19, Perdida: 0.09073065966367722, Exactitud: 97.06619262695312, Perdida de prueba: 2.391772747039795, Exactitud de prueba: 70.07897186279297\n",
            "Epoch 20, Perdida: 0.08378886431455612, Exactitud: 97.3241958618164, Perdida de prueba: 2.549067735671997, Exactitud de prueba: 71.27815246582031\n",
            "Epoch 21, Perdida: 0.07262881100177765, Exactitud: 97.80332946777344, Perdida de prueba: 2.7390785217285156, Exactitud de prueba: 70.8686752319336\n",
            "Epoch 22, Perdida: 0.10759764909744263, Exactitud: 96.78607940673828, Perdida de prueba: 2.597149610519409, Exactitud de prueba: 71.36589813232422\n",
            "Epoch 23, Perdida: 0.10521112382411957, Exactitud: 96.9040298461914, Perdida de prueba: 2.578810453414917, Exactitud de prueba: 71.07341003417969\n",
            "Epoch 24, Perdida: 0.07288017123937607, Exactitud: 97.81070709228516, Perdida de prueba: 2.553006887435913, Exactitud de prueba: 71.83386993408203\n",
            "Epoch 25, Perdida: 0.06393703073263168, Exactitud: 98.0687026977539, Perdida de prueba: 2.7027971744537354, Exactitud de prueba: 70.2837142944336\n"
          ]
        }
      ]
    },
    {
      "cell_type": "markdown",
      "source": [
        "Se grafican las métricas para la visualización de su evolución."
      ],
      "metadata": {
        "id": "AfsEutUHtlrx"
      }
    },
    {
      "cell_type": "code",
      "source": [
        "plt.plot(rtrain_accuracy, label=\"Train Accuracy\", marker = '*')\n",
        "plt.plot(rtest_accuracy, label=\"Test Accuracy\", marker = '*')\n",
        "plt.plot(rtrain_loss, label=\"Train Loss\", marker = 'o')\n",
        "plt.plot(rtest_loss, label=\"Test Loss\", marker = 'o')\n",
        "\n",
        "plt.title(\"Métricas de validación\")\n",
        "plt.xlabel(\"Épocas\")\n",
        "plt.ylabel(\"Percentage (%)\")\n",
        "plt.legend()\n",
        "plt.grid()\n",
        "plt.show()"
      ],
      "metadata": {
        "colab": {
          "base_uri": "https://localhost:8080/",
          "height": 297
        },
        "id": "AAjBIwcemsrA",
        "outputId": "bbddec36-ce04-43e5-a1d8-3cb36d84fa98"
      },
      "execution_count": 14,
      "outputs": [
        {
          "output_type": "display_data",
          "data": {
            "text/plain": [
              "<Figure size 432x288 with 1 Axes>"
            ],
            "image/png": "[encoded data removed]"
          },
          "metadata": {
            "needs_background": "light"
          }
        }
      ]
    }
  ],
  "metadata": {
    "colab": {
      "collapsed_sections": [],
      "provenance": [],
      "include_colab_link": true
    },
    "kernelspec": {
      "display_name": "Python 3",
      "name": "python3"
    },
    "language_info": {
      "name": "python"
    },
    "accelerator": "GPU"
  },
  "nbformat": 4,
  "nbformat_minor": 0
}